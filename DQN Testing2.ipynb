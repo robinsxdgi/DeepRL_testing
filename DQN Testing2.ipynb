{
 "cells": [
  {
   "cell_type": "code",
   "execution_count": 1,
   "metadata": {},
   "outputs": [],
   "source": [
    "# set to use cpu or gpu in the DQN\n",
    "import os\n",
    "os.environ[\"CUDA_DEVICE_ORDER\"] = \"PCI_BUS_ID\"\n",
    "os.environ[\"CUDA_VISIBLE_DEVICES\"] = \"\" # empty, so don't use gpu here"
   ]
  },
  {
   "cell_type": "markdown",
   "metadata": {},
   "source": [
    "#### Import dependencies"
   ]
  },
  {
   "cell_type": "code",
   "execution_count": 2,
   "metadata": {},
   "outputs": [],
   "source": [
    "import random\n",
    "import gym\n",
    "import numpy as np\n",
    "from collections import deque\n",
    "from keras.models import Sequential\n",
    "from keras.layers import Dense\n",
    "from keras.optimizers import Adam"
   ]
  },
  {
   "cell_type": "markdown",
   "metadata": {},
   "source": [
    "#### Set parameters"
   ]
  },
  {
   "cell_type": "code",
   "execution_count": 3,
   "metadata": {},
   "outputs": [],
   "source": [
    "# set the environment, in application it would be the real (or virtual) trading trials\n",
    "env = gym.make('CartPole-v0')"
   ]
  },
  {
   "cell_type": "code",
   "execution_count": 4,
   "metadata": {},
   "outputs": [
    {
     "data": {
      "text/plain": [
       "4"
      ]
     },
     "execution_count": 4,
     "metadata": {},
     "output_type": "execute_result"
    }
   ],
   "source": [
    "# decide the state and the actions size to model\n",
    "# in this example, it's just 4 things to observe in each time period\n",
    "# but in the appication, these are the number of observable features\n",
    "# we will use to train the model \n",
    "state_size = env.observation_space.shape[0]\n",
    "state_size"
   ]
  },
  {
   "cell_type": "code",
   "execution_count": 7,
   "metadata": {},
   "outputs": [
    {
     "data": {
      "text/plain": [
       "2"
      ]
     },
     "execution_count": 7,
     "metadata": {},
     "output_type": "execute_result"
    }
   ],
   "source": [
    "# the number of actions, also could be customized\n",
    "action_size = env.action_space.n\n",
    "action_size"
   ]
  },
  {
   "cell_type": "markdown",
   "metadata": {},
   "source": [
    "#### Set batch size for the stochastic gradient descent"
   ]
  },
  {
   "cell_type": "code",
   "execution_count": 58,
   "metadata": {},
   "outputs": [],
   "source": [
    "batch_size = 32"
   ]
  },
  {
   "cell_type": "code",
   "execution_count": 9,
   "metadata": {},
   "outputs": [],
   "source": [
    "# number of trials for training\n",
    "episodes = 1001"
   ]
  },
  {
   "cell_type": "code",
   "execution_count": 10,
   "metadata": {},
   "outputs": [],
   "source": [
    "# store the output to a folder\n",
    "output_dir = 'model_output/cartpole'\n",
    "if not os.path.exists(output_dir):\n",
    "    os.makedirs(output_dir)"
   ]
  },
  {
   "cell_type": "markdown",
   "metadata": {},
   "source": [
    "#### Define agent"
   ]
  },
  {
   "cell_type": "code",
   "execution_count": 61,
   "metadata": {},
   "outputs": [],
   "source": [
    "# like state, action, memory, discount, exploration rate(epsilon, its decay and bound), adam's step size(or called learning rate)\n",
    "class DQNAgent:\n",
    "    def __init__(self, state_size, action_size):\n",
    "        self.state_size = state_size\n",
    "        self.action_size = action_size\n",
    "        self.memory = deque(maxlen = 200)\n",
    "        self.gamma = 0.95 # discount over time\n",
    "        self.epsilon = 1 # starting exploration rate\n",
    "        self.epsilon_decay = 0.995 # decay of exploration rate each step\n",
    "        self.epsilon_min = 0.01 # the lower bound of the exploration rate\n",
    "        self.learning_rate = 0.001 # learning rate (step size) of Adam\n",
    "        self.model = self._build_model()\n",
    "        \n",
    "    # build the neural network for estimating the optimal q-value\n",
    "    def _build_model(self):\n",
    "        model = Sequential()\n",
    "        model.add(Dense(24, input_dim = self.state_size, activation = 'relu'))\n",
    "        model.add(Dense(24, activation = 'relu'))\n",
    "        model.add(Dense(self.action_size, activation = 'linear'))\n",
    "        model.compile(loss = 'mse', optimizer = Adam(lr = self.learning_rate))\n",
    "        \n",
    "        return model\n",
    "    \n",
    "    # remeber method for the experience replay, which is key to DQN here\n",
    "    def remeber(self, state, action, reward, next_state, done):\n",
    "        self.memory.append((state, action, reward, next_state, done))\n",
    "        \n",
    "    # actions to take based on the state\n",
    "    def act(self, state):\n",
    "        if np.random.rand() <= self.epsilon: # exploration, in our application, we could replace these with all users' trading actions in the exchange platform as the exploration of the Q-function estimation\n",
    "            return random.randrange(self.action_size)\n",
    "        act_value = self.model.predict(state) # expolitation\n",
    "        return np.argmax(act_value[0]) # the index corresponding to the largest reward, i.e., the best action\n",
    "    \n",
    "    # define the replay \n",
    "    def replay(self, batch_size):\n",
    "        minibatch = random.sample(self.memory, batch_size)\n",
    "        for state, action, reward, next_state, done in minibatch:\n",
    "            # if the the episode is done:\n",
    "            target = reward\n",
    "            if not done: # if the the episode is not done, we update the reward using the network's prediction\n",
    "                target = reward + self.gamma * np.amax(self.model.predict(next_state)[0]) # I think we only wanna update the specific reward related to that optimal action\n",
    "            target_f = self.model.predict(state)\n",
    "            target_f[0][action] = target # if the 2nd above line doesn't have [action] there, this [action] should be added in the end here\n",
    "            # now let the trained model evolve as more experience data we used\n",
    "            self.model.fit(state, target_f, epochs = 1, verbose = 0)\n",
    "        if self.epsilon > self.epsilon_min:\n",
    "            self.epsilon *= self.epsilon_decay\n",
    "            \n",
    "    # Save and load weights\n",
    "    def load(self, name):\n",
    "        self.model.load_weights(name)\n",
    "    def save(self, name):\n",
    "        self.model.save_weights(name)            "
   ]
  },
  {
   "cell_type": "code",
   "execution_count": 62,
   "metadata": {},
   "outputs": [],
   "source": [
    "agent = DQNAgent(state_size, action_size)"
   ]
  },
  {
   "cell_type": "markdown",
   "metadata": {},
   "source": [
    "#### Interact with environment"
   ]
  },
  {
   "cell_type": "code",
   "execution_count": null,
   "metadata": {
    "scrolled": false
   },
   "outputs": [
    {
     "name": "stdout",
     "output_type": "stream",
     "text": [
      "episode: 0/1001, score: 111, e: 0.01\n",
      "episode: 1/1001, score: 160, e: 0.01\n",
      "episode: 2/1001, score: 111, e: 0.01\n",
      "episode: 3/1001, score: 71, e: 0.01\n",
      "episode: 4/1001, score: 126, e: 0.01\n",
      "episode: 5/1001, score: 134, e: 0.01\n",
      "episode: 6/1001, score: 9, e: 0.01\n",
      "episode: 7/1001, score: 10, e: 0.01\n",
      "episode: 8/1001, score: 8, e: 0.01\n",
      "episode: 9/1001, score: 11, e: 0.01\n",
      "episode: 10/1001, score: 45, e: 0.01\n",
      "episode: 11/1001, score: 130, e: 0.01\n",
      "episode: 12/1001, score: 152, e: 0.01\n",
      "episode: 13/1001, score: 91, e: 0.01\n",
      "episode: 14/1001, score: 8, e: 0.01\n",
      "episode: 15/1001, score: 14, e: 0.01\n",
      "episode: 16/1001, score: 53, e: 0.01\n",
      "episode: 17/1001, score: 147, e: 0.01\n",
      "episode: 18/1001, score: 199, e: 0.01\n",
      "episode: 19/1001, score: 199, e: 0.01\n",
      "episode: 20/1001, score: 199, e: 0.01\n",
      "episode: 21/1001, score: 166, e: 0.01\n",
      "episode: 22/1001, score: 168, e: 0.01\n",
      "episode: 23/1001, score: 144, e: 0.01\n",
      "episode: 24/1001, score: 137, e: 0.01\n",
      "episode: 25/1001, score: 9, e: 0.01\n",
      "episode: 26/1001, score: 22, e: 0.01\n",
      "episode: 27/1001, score: 165, e: 0.01\n",
      "episode: 28/1001, score: 199, e: 0.01\n",
      "episode: 29/1001, score: 199, e: 0.01\n",
      "episode: 30/1001, score: 83, e: 0.01\n",
      "episode: 31/1001, score: 116, e: 0.01\n",
      "episode: 32/1001, score: 185, e: 0.01\n",
      "episode: 33/1001, score: 199, e: 0.01\n",
      "episode: 34/1001, score: 126, e: 0.01\n"
     ]
    }
   ],
   "source": [
    "done = False\n",
    "for e in range(episodes):\n",
    "    \n",
    "    state = env.reset() # restart the environment\n",
    "    state = np.reshape(state, [1, state_size]) # reshape to be one row \n",
    "    \n",
    "    for time in range(5000):\n",
    "        env.render() # render the gym window, but there's a small rendering issue in Jupyter to fix\n",
    "        action = agent.act(state) # actions to take based the initial state (initial epsilon is 1, i.e., random actions)\n",
    "\n",
    "        # get the next_state, reward, whether it's done and debugging info\n",
    "        # in our application, we may create a virtual environment (online, offline, actual experience, imaginary experience all have different strategies)\n",
    "        next_state, reward, done, _ = env.step(action)\n",
    "        # if the game is done (defined by the environment) before 5000 steps, then give a -10 reward, in our application it would the loss of the balance\n",
    "        reward = reward if not done else -10\n",
    "        next_state = np.reshape(next_state, [1, state_size])\n",
    "        # remember the new experience\n",
    "        agent.remeber(state, action, reward, next_state, done)\n",
    "        state = next_state\n",
    "        if done: # print out the score, the episode and epsilon\n",
    "            print(\"episode: {}/{}, score: {}, e: {:.2}\".format(e, episodes, time, agent.epsilon/1.0))\n",
    "            break\n",
    "            \n",
    "        # if the stored experience is more than the memory we specified, we start replay\n",
    "        if len(agent.memory) > batch_size:\n",
    "            agent.replay(batch_size)\n",
    "            \n",
    "        # store the weights every 50 episodes\n",
    "        if e % 50 == 0:\n",
    "            agent.save(output_dir + 'weights_' + '{:04d}'.format(e) + \".hdf5\")"
   ]
  },
  {
   "cell_type": "code",
   "execution_count": 64,
   "metadata": {},
   "outputs": [
    {
     "data": {
      "text/plain": [
       "True"
      ]
     },
     "execution_count": 64,
     "metadata": {},
     "output_type": "execute_result"
    }
   ],
   "source": [
    "env.render()"
   ]
  },
  {
   "cell_type": "code",
   "execution_count": 65,
   "metadata": {},
   "outputs": [],
   "source": [
    "env.close()"
   ]
  },
  {
   "cell_type": "code",
   "execution_count": null,
   "metadata": {},
   "outputs": [],
   "source": []
  }
 ],
 "metadata": {
  "kernelspec": {
   "display_name": "Python 3",
   "language": "python",
   "name": "python3"
  },
  "language_info": {
   "codemirror_mode": {
    "name": "ipython",
    "version": 3
   },
   "file_extension": ".py",
   "mimetype": "text/x-python",
   "name": "python",
   "nbconvert_exporter": "python",
   "pygments_lexer": "ipython3",
   "version": "3.6.5"
  }
 },
 "nbformat": 4,
 "nbformat_minor": 2
}
